{
 "cells": [
  {
   "cell_type": "markdown",
   "id": "2e2ac1ea-6f30-4e27-be43-fe5bcda8f1e9",
   "metadata": {},
   "source": [
    "İş problemi: <br>\n",
    "Online kitap satışı yapan bir şirket, “Seyahat” ve “Kurgu Dışı” kategorilerinde az satış yaptığını tespit ediyor.\n",
    "Bu sebeple şirketin, rakip firmanın kazınması izin verilen https://books.toscrape.com/ adlı web sitesinden “Travel” ve “Nonfiction” kategorisindeki kitaplara ait bilgileri alıp rakip ve fiyat analizi yapmaya ihtiyacı var.\n",
    "Şirket sizden, bu kategorilerdeki her bir kitaba ait detay sayfalarına gitmenizi ve orada bulunan bazı bilgileri almanızı bekliyor."
   ]
  },
  {
   "cell_type": "markdown",
   "id": "25cf1e55-6f9f-409f-aa66-239035166e37",
   "metadata": {},
   "source": [
    "Projede İstenilen Akış:\n",
    "1. \"Travel\" ve \"Nonfiction\" kategorilerine ait kitapların yer aldığı sayfa linkleri ana sayfa içerisinden alınmalı.\n",
    "2. Sonrasında ilk kategoriye ait ürünlerin bulunduğu sayfa görüntülenerek, tüm kitapların detay sayfalarına erişmek için linkler kazınmalı.\n",
    "3. Kazınan linkler kullanılarak o kategoriye ait tüm kitapların detay bilgileri kazınmalı.\n",
    "4. Adım 2 ve 3’ü diğer kategori için de yapabilmek adına sistem otomatize edilmeli.\n"
   ]
  },
  {
   "cell_type": "markdown",
   "id": "647501a7-3052-4982-b84b-6e2822639aec",
   "metadata": {},
   "source": [
    "# Görev 1: Tarayıcıyı Konfigüre Etme ve Başlatma"
   ]
  },
  {
   "cell_type": "markdown",
   "id": "9b1446c7-6e9c-4b58-bd4c-64d9593af0dd",
   "metadata": {},
   "source": [
    "## Adım 1: Webdriver sınıfını kullanarak bir adet options adında ChromeOptions tanımlayınız."
   ]
  },
  {
   "cell_type": "code",
   "execution_count": 1,
   "id": "3d3cdbe0-77ea-4644-bbec-c4fcb7a9818a",
   "metadata": {},
   "outputs": [],
   "source": [
    "from selenium import webdriver"
   ]
  },
  {
   "cell_type": "code",
   "execution_count": 2,
   "id": "977630e3-8c3a-4416-810f-e83b087582c1",
   "metadata": {},
   "outputs": [],
   "source": [
    "options = webdriver.ChromeOptions()"
   ]
  },
  {
   "cell_type": "markdown",
   "id": "0827030a-9418-4984-b0e0-24692187b977",
   "metadata": {},
   "source": [
    "## Adım 2: Tanımladığınız options’a tam ekran özelliği ekleyiniz.\n"
   ]
  },
  {
   "cell_type": "code",
   "execution_count": 3,
   "id": "cc165db1-aeb6-4ec0-bb09-8498dc050d03",
   "metadata": {},
   "outputs": [],
   "source": [
    "options.add_argument(\"--start-maximized\")"
   ]
  },
  {
   "cell_type": "markdown",
   "id": "94b50280-0de8-45fb-b08e-cfb2c022331d",
   "metadata": {},
   "source": [
    "## Adım 3: Bir önceki adımlarda hazırladığınız options’ı da kullanarak bir adet driver adında Chrome tarayıcısı oluşturunuz."
   ]
  },
  {
   "cell_type": "code",
   "execution_count": 4,
   "id": "5ca52be0-a7dc-4b8b-ae89-a3eea74593d7",
   "metadata": {},
   "outputs": [],
   "source": [
    "driver = webdriver.Chrome(options)"
   ]
  },
  {
   "cell_type": "markdown",
   "id": "8e828c12-cdfe-46f1-b39a-e12c1e22d471",
   "metadata": {},
   "source": [
    "# Görev 2: Ana Sayfanın İncelenmesi ve Kazınması"
   ]
  },
  {
   "cell_type": "markdown",
   "id": "fc9750b2-8ecf-4981-8408-6854f3cbf47e",
   "metadata": {},
   "source": [
    "## Adım 1: Ana Sayfayı driver ile açınız ve inceleyiniz."
   ]
  },
  {
   "cell_type": "code",
   "execution_count": 5,
   "id": "979c986b-2e0f-48cd-9a0a-7297e40f5f91",
   "metadata": {},
   "outputs": [],
   "source": [
    "import time\n",
    "SLEEP_TIME = 2  # Genelde 2 sn beklenir ama bunun değişme ihtimaline karşı değişimi merkezi bir şekilde yapmak için değişkene atadık."
   ]
  },
  {
   "cell_type": "code",
   "execution_count": 6,
   "id": "3d794aee-284b-4bc6-9612-80e9f681297d",
   "metadata": {},
   "outputs": [],
   "source": [
    "driver.get(\"https://books.toscrape.com/\")\n",
    "time.sleep(SLEEP_TIME)  # web sayfalarının yüklenmesi, click işlemlerinden sonra içeriklerin yüklenmesi için beklemek iyidir."
   ]
  },
  {
   "cell_type": "markdown",
   "id": "02eb4c3a-39b7-466e-8744-ea2bf229c104",
   "metadata": {},
   "source": [
    "## Adım 2: \"Travel\" ile \"Nonfiction\" kategori sayfalarının linklerini tutan elementleri tek seferde bulan XPath sorgusunu yazınız."
   ]
  },
  {
   "cell_type": "code",
   "execution_count": 7,
   "id": "3dea4cf1-316a-4b35-bffc-9eee38bd36a4",
   "metadata": {},
   "outputs": [],
   "source": [
    "category_elements_xpath = \"//a[contains(text(), 'Travel') or contains(text(), 'Nonfiction')]\""
   ]
  },
  {
   "cell_type": "markdown",
   "id": "0473c269-3991-43de-a34c-ea82a6d5f82d",
   "metadata": {},
   "source": [
    "## Adım 3: XPath sorgusu ile yakaladığınız elementleri driver'ı kullanarak bulunuz ve kategori detay linklerini kazıyınız."
   ]
  },
  {
   "cell_type": "code",
   "execution_count": 8,
   "id": "d796971b-eb95-41a1-b2b7-334dc79382e2",
   "metadata": {},
   "outputs": [],
   "source": [
    "from selenium.webdriver.common.by import By"
   ]
  },
  {
   "cell_type": "code",
   "execution_count": 9,
   "id": "400f85a1-d528-4fd8-9f4e-62ed517b571e",
   "metadata": {},
   "outputs": [
    {
     "data": {
      "text/plain": [
       "[<selenium.webdriver.remote.webelement.WebElement (session=\"8e965349dd86d7d23997d3db7a28e7dd\", element=\"f.E5C52DCC171A1BD297BD6FE5A1AAA4A3.d.CD01CE0E2954D3A8012C6F64F3F9A59C.e.28\")>,\n",
       " <selenium.webdriver.remote.webelement.WebElement (session=\"8e965349dd86d7d23997d3db7a28e7dd\", element=\"f.E5C52DCC171A1BD297BD6FE5A1AAA4A3.d.CD01CE0E2954D3A8012C6F64F3F9A59C.e.29\")>]"
      ]
     },
     "execution_count": 9,
     "metadata": {},
     "output_type": "execute_result"
    }
   ],
   "source": [
    "category_elements = driver.find_elements(By.XPATH, category_elements_xpath)\n",
    "category_elements"
   ]
  },
  {
   "cell_type": "code",
   "execution_count": 10,
   "id": "788bdfb5-5c69-45ea-a0e3-c3a4f82a8f4c",
   "metadata": {},
   "outputs": [
    {
     "name": "stdout",
     "output_type": "stream",
     "text": [
      "['https://books.toscrape.com/catalogue/category/books/travel_2/index.html', 'https://books.toscrape.com/catalogue/category/books/nonfiction_13/index.html']\n"
     ]
    }
   ],
   "source": [
    "category_urls = [element.get_attribute(\"href\") for element in category_elements]\n",
    "print(category_urls)"
   ]
  },
  {
   "cell_type": "markdown",
   "id": "f1385b7f-e215-4926-8570-b71cb7bfcc0e",
   "metadata": {},
   "source": [
    "# Görev 3: Kategori Sayfasının İncelenmesi ve Kazınması"
   ]
  },
  {
   "cell_type": "markdown",
   "id": "71eddcf8-440d-4817-ad45-a241f8bbf86c",
   "metadata": {},
   "source": [
    "## Adım 1: Herhangi bir detay sayfasına girip o sayfadaki kitapların detay linkini tutan elementleri yakalayan XPath sorgusunu yazınız.\n"
   ]
  },
  {
   "cell_type": "code",
   "execution_count": 11,
   "id": "3ecac82c-b656-4a35-8921-101d7a0fc11f",
   "metadata": {},
   "outputs": [],
   "source": [
    "driver.get(category_urls[0])\n",
    "time.sleep(SLEEP_TIME)\n",
    "book_elements_xpath = \"//div[@class='image_container']//a\""
   ]
  },
  {
   "cell_type": "markdown",
   "id": "425b79d0-86aa-4747-a67c-effa7f315781",
   "metadata": {},
   "source": [
    "## Adım 2: driver ile XPath sorgusunu kullanarak elementleri yakalayınız ve detay linklerini çıkarınız."
   ]
  },
  {
   "cell_type": "code",
   "execution_count": 12,
   "id": "ffdf4b8c-3cf9-4dd2-8f74-5c24fa568b3e",
   "metadata": {},
   "outputs": [
    {
     "name": "stdout",
     "output_type": "stream",
     "text": [
      "['https://books.toscrape.com/catalogue/its-only-the-himalayas_981/index.html', 'https://books.toscrape.com/catalogue/full-moon-over-noahs-ark-an-odyssey-to-mount-ararat-and-beyond_811/index.html', 'https://books.toscrape.com/catalogue/see-america-a-celebration-of-our-national-parks-treasured-sites_732/index.html', 'https://books.toscrape.com/catalogue/vagabonding-an-uncommon-guide-to-the-art-of-long-term-world-travel_552/index.html', 'https://books.toscrape.com/catalogue/under-the-tuscan-sun_504/index.html', 'https://books.toscrape.com/catalogue/a-summer-in-europe_458/index.html', 'https://books.toscrape.com/catalogue/the-great-railway-bazaar_446/index.html', 'https://books.toscrape.com/catalogue/a-year-in-provence-provence-1_421/index.html', 'https://books.toscrape.com/catalogue/the-road-to-little-dribbling-adventures-of-an-american-in-britain-notes-from-a-small-island-2_277/index.html', 'https://books.toscrape.com/catalogue/neither-here-nor-there-travels-in-europe_198/index.html', 'https://books.toscrape.com/catalogue/1000-places-to-see-before-you-die_1/index.html']\n"
     ]
    }
   ],
   "source": [
    "book_elements = driver.find_elements(By.XPATH, book_elements_xpath)\n",
    "book_urls = [element.get_attribute(\"href\") for element in book_elements]\n",
    "print(book_urls)"
   ]
  },
  {
   "cell_type": "code",
   "execution_count": 13,
   "id": "ab31e567-cf93-453d-aff4-a10576d44ba3",
   "metadata": {},
   "outputs": [
    {
     "data": {
      "text/plain": [
       "11"
      ]
     },
     "execution_count": 13,
     "metadata": {},
     "output_type": "execute_result"
    }
   ],
   "source": [
    "len(book_urls)"
   ]
  },
  {
   "cell_type": "markdown",
   "id": "0040fdc3-f780-42e6-959b-7f2b014756ca",
   "metadata": {},
   "source": [
    "## Adım 3: Sayfalandırma (Pagination) için butonlara tıklamak yerine sayfa linkini manipüle etme yöntemini kullanınız ve döngü kullanarak sayfalandırma sistemi ekleyiniz.\n",
    "\n",
    "İpucu: Sayfa değiştikçe url'de ne değişiyor gözlemleyiniz."
   ]
  },
  {
   "cell_type": "markdown",
   "id": "3c4503bd-1e4b-4a3a-8771-223dfbc201cd",
   "metadata": {},
   "source": [
    "## Adım 4: Sayfalandırmanın sonuna geldiğinizi anlamak adına kategorinin 999. sayfasına giderek karşınıza çıkan sayfayı inceleyiniz.\n",
    "İpucu: ..../category/books/nonfiction_13/page-999.html </br>\n",
    "Dikkat: ..../category/books/travel2/page-1.html ?? Çalışıyor mu acaba"
   ]
  },
  {
   "cell_type": "markdown",
   "id": "e0c69660-6885-4276-9303-c6f48a4c4bb2",
   "metadata": {},
   "source": [
    "## Adım 5: Bir önceki adımdaki incelemenin sonucunda sayfalandırmada sonsuz döngüye girmemek adına bu durumu kontrol ediniz.\n",
    "İpucu: text'inde 404 içeren bir h1 var mı?) veya (if not book_elements) ya da (len(book_elements) <= 0"
   ]
  },
  {
   "cell_type": "code",
   "execution_count": 14,
   "id": "111e3fe8-2d6a-4135-94bd-898fd1be53d0",
   "metadata": {},
   "outputs": [],
   "source": [
    "MAX_PAGINATION = 3\n",
    "url = category_urls[0]  # travel sayfası\n",
    "book_urls = []\n",
    "\n",
    "for i in range(1, MAX_PAGINATION):\n",
    "    update_url = url if i == 1 else url.replace(\"index\", f\"page-{i}\")\n",
    "    driver.get(update_url)\n",
    "    book_elements = driver.find_elements(By.XPATH, book_elements_xpath)\n",
    "    if not book_elements:\n",
    "        break\n",
    "    temp_urls = [element.get_attribute(\"href\") for element in book_elements]\n",
    "    book_urls.extend(temp_urls)"
   ]
  },
  {
   "cell_type": "code",
   "execution_count": 15,
   "id": "15cc965e-7e99-4760-8360-2a66b054fb6a",
   "metadata": {},
   "outputs": [
    {
     "data": {
      "text/plain": [
       "['https://books.toscrape.com/catalogue/its-only-the-himalayas_981/index.html',\n",
       " 'https://books.toscrape.com/catalogue/full-moon-over-noahs-ark-an-odyssey-to-mount-ararat-and-beyond_811/index.html',\n",
       " 'https://books.toscrape.com/catalogue/see-america-a-celebration-of-our-national-parks-treasured-sites_732/index.html',\n",
       " 'https://books.toscrape.com/catalogue/vagabonding-an-uncommon-guide-to-the-art-of-long-term-world-travel_552/index.html',\n",
       " 'https://books.toscrape.com/catalogue/under-the-tuscan-sun_504/index.html',\n",
       " 'https://books.toscrape.com/catalogue/a-summer-in-europe_458/index.html',\n",
       " 'https://books.toscrape.com/catalogue/the-great-railway-bazaar_446/index.html',\n",
       " 'https://books.toscrape.com/catalogue/a-year-in-provence-provence-1_421/index.html',\n",
       " 'https://books.toscrape.com/catalogue/the-road-to-little-dribbling-adventures-of-an-american-in-britain-notes-from-a-small-island-2_277/index.html',\n",
       " 'https://books.toscrape.com/catalogue/neither-here-nor-there-travels-in-europe_198/index.html',\n",
       " 'https://books.toscrape.com/catalogue/1000-places-to-see-before-you-die_1/index.html']"
      ]
     },
     "execution_count": 15,
     "metadata": {},
     "output_type": "execute_result"
    }
   ],
   "source": [
    "book_urls"
   ]
  },
  {
   "cell_type": "code",
   "execution_count": 16,
   "id": "c66f4d3b-667a-4a9d-809d-1e2ccfadd94e",
   "metadata": {},
   "outputs": [
    {
     "data": {
      "text/plain": [
       "11"
      ]
     },
     "execution_count": 16,
     "metadata": {},
     "output_type": "execute_result"
    }
   ],
   "source": [
    "len(book_urls)"
   ]
  },
  {
   "cell_type": "code",
   "execution_count": 17,
   "id": "871b06c6-1be7-44d9-9b44-946c5c39f287",
   "metadata": {},
   "outputs": [],
   "source": [
    "url = category_urls[1]  # nonfiction sayfası\n",
    "book_urls = []\n",
    "\n",
    "for i in range(1, MAX_PAGINATION):\n",
    "    update_url = url if i == 1 else url.replace(\"index\", f\"page-{i}\")\n",
    "    driver.get(update_url)\n",
    "    book_elements = driver.find_elements(By.XPATH, book_elements_xpath)\n",
    "    if not book_elements:\n",
    "        break\n",
    "    temp_urls = [element.get_attribute(\"href\") for element in book_elements]\n",
    "    book_urls.extend(temp_urls)"
   ]
  },
  {
   "cell_type": "code",
   "execution_count": 18,
   "id": "1fbe8119-5fa2-4b32-ac36-70d18d2da38e",
   "metadata": {},
   "outputs": [
    {
     "data": {
      "text/plain": [
       "['https://books.toscrape.com/catalogue/worlds-elsewhere-journeys-around-shakespeares-globe_972/index.html',\n",
       " 'https://books.toscrape.com/catalogue/the-five-love-languages-how-to-express-heartfelt-commitment-to-your-mate_969/index.html',\n",
       " 'https://books.toscrape.com/catalogue/reasons-to-stay-alive_959/index.html',\n",
       " 'https://books.toscrape.com/catalogue/higherselfie-wake-up-your-life-free-your-soul-find-your-tribe_957/index.html',\n",
       " 'https://books.toscrape.com/catalogue/unseen-city-the-majesty-of-pigeons-the-discreet-charm-of-snails-other-wonders-of-the-urban-wilderness_952/index.html',\n",
       " 'https://books.toscrape.com/catalogue/throwing-rocks-at-the-google-bus-how-growth-became-the-enemy-of-prosperity_948/index.html',\n",
       " 'https://books.toscrape.com/catalogue/the-life-changing-magic-of-tidying-up-the-japanese-art-of-decluttering-and-organizing_936/index.html',\n",
       " 'https://books.toscrape.com/catalogue/the-gutsy-girl-escapades-for-your-life-of-epic-adventure_934/index.html',\n",
       " 'https://books.toscrape.com/catalogue/the-electric-pencil-drawings-from-inside-state-hospital-no-3_933/index.html',\n",
       " 'https://books.toscrape.com/catalogue/spark-joy-an-illustrated-master-class-on-the-art-of-organizing-and-tidying-up_927/index.html',\n",
       " 'https://books.toscrape.com/catalogue/reskilling-america-learning-to-labor-in-the-twenty-first-century_922/index.html',\n",
       " 'https://books.toscrape.com/catalogue/in-the-country-we-love-my-family-divided_901/index.html',\n",
       " 'https://books.toscrape.com/catalogue/everydata-the-misinformation-hidden-in-the-little-data-you-consume-every-day_891/index.html',\n",
       " 'https://books.toscrape.com/catalogue/call-the-nurse-true-stories-of-a-country-nurse-on-a-scottish-isle_885/index.html',\n",
       " 'https://books.toscrape.com/catalogue/algorithms-to-live-by-the-computer-science-of-human-decisions_880/index.html',\n",
       " 'https://books.toscrape.com/catalogue/the-power-of-now-a-guide-to-spiritual-enlightenment_855/index.html',\n",
       " 'https://books.toscrape.com/catalogue/the-omnivores-dilemma-a-natural-history-of-four-meals_854/index.html',\n",
       " 'https://books.toscrape.com/catalogue/the-genius-of-birds_843/index.html',\n",
       " 'https://books.toscrape.com/catalogue/the-artists-way-a-spiritual-path-to-higher-creativity_839/index.html',\n",
       " 'https://books.toscrape.com/catalogue/so-youve-been-publicly-shamed_832/index.html',\n",
       " 'https://books.toscrape.com/catalogue/daring-greatly-how-the-courage-to-be-vulnerable-transforms-the-way-we-live-love-parent-and-lead_799/index.html',\n",
       " 'https://books.toscrape.com/catalogue/big-magic-creative-living-beyond-fear_796/index.html',\n",
       " 'https://books.toscrape.com/catalogue/becoming-wise-an-inquiry-into-the-mystery-and-art-of-living_795/index.html',\n",
       " 'https://books.toscrape.com/catalogue/agnostic-a-spirited-manifesto_786/index.html',\n",
       " 'https://books.toscrape.com/catalogue/whole-lotta-creativity-going-on-60-fun-and-unusual-exercises-to-awaken-and-strengthen-your-creativity_780/index.html',\n",
       " 'https://books.toscrape.com/catalogue/whats-it-like-in-space-stories-from-astronauts-whove-been-there_779/index.html',\n",
       " 'https://books.toscrape.com/catalogue/the-year-of-magical-thinking_770/index.html',\n",
       " 'https://books.toscrape.com/catalogue/the-literature-book-big-ideas-simply-explained_755/index.html',\n",
       " 'https://books.toscrape.com/catalogue/the-bad-ass-librarians-of-timbuktu-and-their-race-to-save-the-worlds-most-precious-manuscripts_745/index.html',\n",
       " 'https://books.toscrape.com/catalogue/swell-a-year-of-waves_740/index.html',\n",
       " 'https://books.toscrape.com/catalogue/no-dream-is-too-high-life-lessons-from-a-man-who-walked-on-the-moon_722/index.html',\n",
       " 'https://books.toscrape.com/catalogue/looking-for-lovely-collecting-the-moments-that-matter_710/index.html',\n",
       " 'https://books.toscrape.com/catalogue/let-it-out-a-journey-through-journaling_708/index.html',\n",
       " 'https://books.toscrape.com/catalogue/hamilton-the-revolution_699/index.html',\n",
       " 'https://books.toscrape.com/catalogue/far-away-places-on-the-brink-of-change-seven-continents-twenty-five-years_694/index.html',\n",
       " 'https://books.toscrape.com/catalogue/eaternity-more-than-150-deliciously-easy-vegan-recipes-for-a-long-healthy-satisfied-joyful-life_689/index.html',\n",
       " 'https://books.toscrape.com/catalogue/buying-in-the-secret-dialogue-between-what-we-buy-and-who-we-are_670/index.html',\n",
       " 'https://books.toscrape.com/catalogue/brain-on-fire-my-month-of-madness_669/index.html',\n",
       " 'https://books.toscrape.com/catalogue/abstract-city_658/index.html',\n",
       " 'https://books.toscrape.com/catalogue/13-hours-the-inside-account-of-what-really-happened-in-benghazi_645/index.html']"
      ]
     },
     "execution_count": 18,
     "metadata": {},
     "output_type": "execute_result"
    }
   ],
   "source": [
    "book_urls"
   ]
  },
  {
   "cell_type": "code",
   "execution_count": 19,
   "id": "fec72b30-0380-4956-b26d-9f654191f088",
   "metadata": {},
   "outputs": [
    {
     "data": {
      "text/plain": [
       "40"
      ]
     },
     "execution_count": 19,
     "metadata": {},
     "output_type": "execute_result"
    }
   ],
   "source": [
    "len(book_urls)"
   ]
  },
  {
   "cell_type": "markdown",
   "id": "1edfe4ae-3d12-476e-937b-725178df5b27",
   "metadata": {},
   "source": [
    "# Görev 4: Ürün Detay Sayfasının Kazınması"
   ]
  },
  {
   "cell_type": "markdown",
   "id": "300dc41e-0874-417a-b330-6651fdc7aa70",
   "metadata": {},
   "source": [
    "## Adım 1: Herhangi bir ürünün detay sayfasına girip class attribute'ı content olan div elementini yakalayınız."
   ]
  },
  {
   "cell_type": "code",
   "execution_count": 20,
   "id": "30f6860f-22ec-4c1b-9d97-3cc710026091",
   "metadata": {},
   "outputs": [],
   "source": [
    "driver.get(book_urls[0])\n",
    "time.sleep(SLEEP_TIME)\n",
    "content_div = driver.find_elements(By.XPATH, \"//div[@class = 'content']\")"
   ]
  },
  {
   "cell_type": "markdown",
   "id": "cf68cdf3-3a47-4386-a7d5-f80730a470fd",
   "metadata": {},
   "source": [
    "## Adım 2: Yakaladığınız divin html'ini alınız ve inner_html adlı değişkene atayınız"
   ]
  },
  {
   "cell_type": "code",
   "execution_count": 21,
   "id": "dac4c79d-7557-449d-9104-c0f73848254f",
   "metadata": {},
   "outputs": [],
   "source": [
    "inner_html = content_div[0].get_attribute(\"innerHTML\")"
   ]
  },
  {
   "cell_type": "markdown",
   "id": "6b41c2e7-f799-4969-ac9e-4ee2e7a9020b",
   "metadata": {},
   "source": [
    "## Adım 3: inner_html ile soup objesi oluşturunuz."
   ]
  },
  {
   "cell_type": "code",
   "execution_count": 22,
   "id": "56bd58cb-6e05-4e77-a127-138cbc405408",
   "metadata": {},
   "outputs": [],
   "source": [
    "from bs4 import BeautifulSoup"
   ]
  },
  {
   "cell_type": "code",
   "execution_count": 23,
   "id": "4f6dde24-5c63-4b46-a9b7-37e1fc20590c",
   "metadata": {},
   "outputs": [],
   "source": [
    "soup = BeautifulSoup(inner_html, \"html.parser\")"
   ]
  },
  {
   "cell_type": "markdown",
   "id": "778b56a9-cc81-4a46-a078-ba48ab215d6f",
   "metadata": {},
   "source": [
    "## Adım 4: Oluşturduğunuz soup objesi ile şu bilgileri kazıyınız:\n",
    "* Kitap Adı\n",
    "* Kitap Fiyatı\n",
    "* Kitap Yıldız Sayısı\n",
    "* Kitap Açıklaması\n",
    "* Product Information Başlığı altında kalan tablodaki bilgiler.\n"
   ]
  },
  {
   "cell_type": "code",
   "execution_count": 24,
   "id": "f93a443c-5ebe-4643-9b8e-fb8f72a1c2ba",
   "metadata": {},
   "outputs": [
    {
     "data": {
      "text/plain": [
       "'Worlds Elsewhere: Journeys Around Shakespeare’s Globe'"
      ]
     },
     "execution_count": 24,
     "metadata": {},
     "output_type": "execute_result"
    }
   ],
   "source": [
    "# Kitap \n",
    "name_elem = soup.find(\"h1\")\n",
    "book_name = name_elem.text\n",
    "book_name"
   ]
  },
  {
   "cell_type": "code",
   "execution_count": 25,
   "id": "158f8a2a-180c-4ef0-84b4-cbb2513d182e",
   "metadata": {},
   "outputs": [
    {
     "data": {
      "text/plain": [
       "'£40.30'"
      ]
     },
     "execution_count": 25,
     "metadata": {},
     "output_type": "execute_result"
    }
   ],
   "source": [
    "# Kitap fiyatı\n",
    "price_elem = soup.find(\"p\", attrs = {\"class\": \"price_color\"})\n",
    "book_price = price_elem.text\n",
    "book_price"
   ]
  },
  {
   "cell_type": "code",
   "execution_count": 26,
   "id": "ecca6944-e750-47c4-bdfe-5fa0c5aec13d",
   "metadata": {},
   "outputs": [
    {
     "data": {
      "text/plain": [
       "'Five'"
      ]
     },
     "execution_count": 26,
     "metadata": {},
     "output_type": "execute_result"
    }
   ],
   "source": [
    "# Kitap yıldız sayısı\n",
    "import re\n",
    "regex = re.compile(\"^star-rating \")\n",
    "\n",
    "star_elem = soup.find(\"p\", attrs = {\"class\": regex})\n",
    "book_star_count = star_elem[\"class\"][-1]\n",
    "book_star_count"
   ]
  },
  {
   "cell_type": "code",
   "execution_count": 27,
   "id": "21fceab3-aeea-4b61-a9d6-4036c4206d10",
   "metadata": {},
   "outputs": [
    {
     "data": {
      "text/plain": [
       "'Anti-apartheid activist, Bollywood screenwriter, Nazi pin-up, hero of the Wild West: this is Shakespeare as you have never seen him before.From the sixteenth-century Baltic to the American Revolution, from colonial India to the skyscrapers of modern-day Shanghai, Shakespeare’s plays appear at the most fascinating of times and in the most unexpected of places. No other writ Anti-apartheid activist, Bollywood screenwriter, Nazi pin-up, hero of the Wild West: this is Shakespeare as you have never seen him before.From the sixteenth-century Baltic to the American Revolution, from colonial India to the skyscrapers of modern-day Shanghai, Shakespeare’s plays appear at the most fascinating of times and in the most unexpected of places. No other writer’s work has been performed, translated, adapted and altered in such a remarkable variety of cultures and languages. But what is it about William Shakespeare – a man from Warwickshire who never once set foot outside England – that has made him at home in so many places around the globe?Travelling across four continents, six countries and 400 years, Andrew Dickson takes us on a personal journey rich in insight and surprise. We enter the air-conditioned vault deep beneath Capitol Hill where the world’s largest collection of First Folios is stored; discover the shadowy history of Joseph Goebbels’s obsession with Shakespeare; and uncover the true story behind the scuffed edition in which Nelson Mandela and fellow Robben Island prisoners inscribed their names. Both cultural history and literary travelogue, Worlds Elsewhere is an attempt to understand how Shakespeare has become the international phenomenon he is – and why.\"There were very few pages on which I didn’t learn something new or revelatory. A must-read for anyone interested in Shakespeare’s impact on people and politics around the globe\" (James Shapiro, author of 1599: A Year in the Life of William Shakespeare)\"Immensely well-informed and highly readable. A revelatory journey of cultural exploration\" (Professor Stanley Wells, General Editor of the Oxford and Penguin Shakespeares)\"Brilliantly original. Absolutely engaging, witty and irresistible. What’s most remarkable: he’s said something new about Shakespeare\" (Michael Pye, author of The Edge of the World)\"A truly original book about Shakespeare: one that explores the dramatist\\'s global reach with tenacity, devotion and an exhilarating spirit of adventure\" (Michael Billington) ...more'"
      ]
     },
     "execution_count": 27,
     "metadata": {},
     "output_type": "execute_result"
    }
   ],
   "source": [
    "# Kitap açıklaması\n",
    "desc_elem = soup.find(\"div\", attrs = {\"id\": \"product_description\"}).find_next_sibling()\n",
    "book_desc = desc_elem.text\n",
    "book_desc"
   ]
  },
  {
   "cell_type": "code",
   "execution_count": 28,
   "id": "8ef43042-4e6a-46eb-be83-1e5c2f7d8ab5",
   "metadata": {},
   "outputs": [],
   "source": [
    "# Product information başlığı altında kalan tablodaki bilgiler\n",
    "product_info = {}\n",
    "table_rows = soup.find(\"table\").find_all(\"tr\")\n",
    "for row in table_rows:\n",
    "    key = row.find(\"th\").text\n",
    "    value = row.find(\"td\").text\n",
    "\n",
    "    product_info[key] = value"
   ]
  },
  {
   "cell_type": "code",
   "execution_count": 29,
   "id": "fb248989-616b-4292-8b30-2b2741788c7a",
   "metadata": {},
   "outputs": [
    {
     "data": {
      "text/plain": [
       "{'UPC': '4c28def39d850cdf',\n",
       " 'Product Type': 'Books',\n",
       " 'Price (excl. tax)': '£40.30',\n",
       " 'Price (incl. tax)': '£40.30',\n",
       " 'Tax': '£0.00',\n",
       " 'Availability': 'In stock (18 available)',\n",
       " 'Number of reviews': '0'}"
      ]
     },
     "execution_count": 29,
     "metadata": {},
     "output_type": "execute_result"
    }
   ],
   "source": [
    "product_info"
   ]
  },
  {
   "cell_type": "markdown",
   "id": "64e4cdb4-e61a-4f1c-bab4-b008ed450586",
   "metadata": {},
   "source": [
    "# Görev 5: Fonksiyonlaştırma ve Tüm Süreci Otomatize Etme"
   ]
  },
  {
   "cell_type": "markdown",
   "id": "1d2fb290-7e44-4523-bb3c-f10190aa08cd",
   "metadata": {},
   "source": [
    "## Adım 1: İşlemleri fonksiyonlaştırınız.\n",
    "Örnek olarak:\n",
    "* def get_product_detail(driver)\n",
    "* def get_category_detail_urls(driver)\n"
   ]
  },
  {
   "cell_type": "code",
   "execution_count": 30,
   "id": "45d30e86-359d-4087-b0b0-5545ae995140",
   "metadata": {},
   "outputs": [],
   "source": [
    "# Öncelikle tarayıcıyı açalım.\n",
    "def initialize_driver():\n",
    "    options = webdriver.ChromeOptions()\n",
    "    options.add_argument(\"--start-maximized\")\n",
    "    driver = webdriver.Chrome(options)\n",
    "\n",
    "    return driver"
   ]
  },
  {
   "cell_type": "code",
   "execution_count": 31,
   "id": "157a9592-aa6a-4297-9ed6-f4517b0aecad",
   "metadata": {},
   "outputs": [],
   "source": [
    "# Şimdi de kategori url'lerini ana sayfadan ayıklayalım.\n",
    "def get_travel_and_nonfiction_category_urls(driver, url):\n",
    "    driver.get(url)\n",
    "    time.sleep(SLEEP_TIME)\n",
    "\n",
    "    category_elements_xpath = \"//a[contains(text(), 'Travel') or contains(text(), 'Nonfiction')]\"\n",
    "\n",
    "    category_elements = driver.find_elements(By.XPATH, category_elements_xpath)\n",
    "    category_urls = [element.get_attribute(\"href\") for element in category_elements] \n",
    "\n",
    "    return category_urls"
   ]
  },
  {
   "cell_type": "code",
   "execution_count": 32,
   "id": "e9182c4b-e43c-4a86-b550-30f83410f0df",
   "metadata": {},
   "outputs": [],
   "source": [
    "# İki ayrı kategoriyi içeren sayfalardaki kitapların url'lerini döndürelim.\n",
    "def get_book_urls(driver, url):\n",
    "    MAX_PAGINATION = 3\n",
    "\n",
    "    book_urls = []\n",
    "    book_elements_xpath = \"//div[@class='image_container']//a\"\n",
    "\n",
    "    for i in range(1, MAX_PAGINATION):\n",
    "        updated_url = url if i == 1 else url.replace(\"index\", f\"page-{i}\")\n",
    "        driver.get(updated_url)\n",
    "        time.sleep(SLEEP_TIME)\n",
    "        book_elements = driver.find_elements(By.XPATH, book_elements_xpath)\n",
    "\n",
    "        # Pagination işlemini kontrol edelim. Eğer gidilen sayfada kitap yoksa döngüden çıksın.\n",
    "        if not book_elements:\n",
    "            break\n",
    "\n",
    "        temp_urls = [element.get_attribute(\"href\") for element in book_elements]\n",
    "        book_urls.extend(temp_urls)\n",
    "\n",
    "    return book_urls"
   ]
  },
  {
   "cell_type": "code",
   "execution_count": 33,
   "id": "c11b387d-ba7d-456e-9777-ad5331cee88d",
   "metadata": {},
   "outputs": [],
   "source": [
    "# Son olarak kitap detay sayfalarını tek tek gezip kitaplar hakkındaki detayları kazıyalım\n",
    "def get_book_detail(driver, url):\n",
    "    driver.get(url)\n",
    "    time.sleep(SLEEP_TIME)\n",
    "    content_div = driver.find_elements(By.XPATH, \"//div[@class = 'content']\")\n",
    "\n",
    "    inner_html = content_div[0].get_attribute(\"innerHTML\")\n",
    "\n",
    "    from bs4 import BeautifulSoup\n",
    "    soup = BeautifulSoup(inner_html, \"html.parser\")\n",
    "\n",
    "    name_elem = soup.find(\"h1\")\n",
    "    book_name = name_elem.text\n",
    "\n",
    "    price_elem = soup.find(\"p\", attrs = {\"class\": \"price_color\"})\n",
    "    book_price = price_elem.text\n",
    "\n",
    "    import re\n",
    "    regex = re.compile(\"^star-rating \")\n",
    "    star_elem = soup.find(\"p\", attrs = {\"class\": regex})\n",
    "    book_star_count = star_elem[\"class\"][-1]\n",
    "\n",
    "    desc_elem = soup.find(\"div\", attrs = {\"id\": \"product_description\"}).find_next_sibling()\n",
    "    book_desc = desc_elem.text\n",
    "\n",
    "    product_info = {}\n",
    "    table_rows = soup.find(\"table\").find_all(\"tr\")\n",
    "    for row in table_rows:\n",
    "        key = row.find(\"th\").text\n",
    "        value = row.find(\"td\").text\n",
    "\n",
    "        product_info[key] = value\n",
    "\n",
    "    return {\"book_name\": book_name, \"book_price\": book_price, \"book_star_count\": book_star_count,\n",
    "           \"book_desc\": book_desc, **product_info}  # **product_info -> burada dict içinde dict olmasın diye product_info'nun içindekileri aldık."
   ]
  },
  {
   "cell_type": "markdown",
   "id": "ef7115a0-b464-466a-ac6c-4ae90aa3443d",
   "metadata": {},
   "source": [
    "## Adım 2: Süreci otomatize ederek, Travel ile Nonfiction kategorilerine ait tüm kitapların detaylarını alacak şekilde kodu düzenleyiniz.\n",
    "İpucu: For döngüleri kullanabilirsiniz."
   ]
  },
  {
   "cell_type": "code",
   "execution_count": 34,
   "id": "9dbfffbf-817c-4a00-b0c7-b5adbd4acf5c",
   "metadata": {},
   "outputs": [],
   "source": [
    "import time\n",
    "from selenium import webdriver\n",
    "from selenium.webdriver.common.by import By\n",
    "\n",
    "SLEEP_TIME = 0.25"
   ]
  },
  {
   "cell_type": "code",
   "execution_count": 35,
   "id": "43e618ed-39e4-4f74-9424-822ca02be562",
   "metadata": {},
   "outputs": [],
   "source": [
    "def main():\n",
    "    BASE_URL = \"https://books.toscrape.com/\"\n",
    "    driver = initialize_driver()\n",
    "    category_urls = get_travel_and_nonfiction_category_urls(driver, BASE_URL)\n",
    "    data = []\n",
    "    for cat_url in category_urls:\n",
    "        book_urls = get_book_urls(driver, cat_url)\n",
    "        for book_url in book_urls:\n",
    "            book_data = get_book_detail(driver, book_url)\n",
    "            book_data[\"cat_url\"] = cat_url\n",
    "            data.append(book_data)\n",
    "\n",
    "\n",
    "    len(data)\n",
    "\n",
    "\n",
    "    # Şimdi kitapların detaylarını bir dataframe'ye aktaralım.\n",
    "    import pandas as pd\n",
    "    pd.set_option(\"display.max_columns\", None)\n",
    "    pd.set_option(\"display.max_colwidth\", 40)\n",
    "    pd.set_option(\"display.width\", 2000)\n",
    "    df = pd.DataFrame(data)\n",
    "\n",
    "    return df\n",
    "\n",
    "\n",
    "df = main()"
   ]
  },
  {
   "cell_type": "code",
   "execution_count": 36,
   "id": "4c329ad6-82e5-485f-9163-dbc26532e47b",
   "metadata": {},
   "outputs": [
    {
     "data": {
      "text/html": [
       "<div>\n",
       "<style scoped>\n",
       "    .dataframe tbody tr th:only-of-type {\n",
       "        vertical-align: middle;\n",
       "    }\n",
       "\n",
       "    .dataframe tbody tr th {\n",
       "        vertical-align: top;\n",
       "    }\n",
       "\n",
       "    .dataframe thead th {\n",
       "        text-align: right;\n",
       "    }\n",
       "</style>\n",
       "<table border=\"1\" class=\"dataframe\">\n",
       "  <thead>\n",
       "    <tr style=\"text-align: right;\">\n",
       "      <th></th>\n",
       "      <th>book_name</th>\n",
       "      <th>book_price</th>\n",
       "      <th>book_star_count</th>\n",
       "      <th>book_desc</th>\n",
       "      <th>UPC</th>\n",
       "      <th>Product Type</th>\n",
       "      <th>Price (excl. tax)</th>\n",
       "      <th>Price (incl. tax)</th>\n",
       "      <th>Tax</th>\n",
       "      <th>Availability</th>\n",
       "      <th>Number of reviews</th>\n",
       "      <th>cat_url</th>\n",
       "    </tr>\n",
       "  </thead>\n",
       "  <tbody>\n",
       "    <tr>\n",
       "      <th>0</th>\n",
       "      <td>It's Only the Himalayas</td>\n",
       "      <td>£45.17</td>\n",
       "      <td>Two</td>\n",
       "      <td>“Wherever you go, whatever you do, j...</td>\n",
       "      <td>a22124811bfa8350</td>\n",
       "      <td>Books</td>\n",
       "      <td>£45.17</td>\n",
       "      <td>£45.17</td>\n",
       "      <td>£0.00</td>\n",
       "      <td>In stock (19 available)</td>\n",
       "      <td>0</td>\n",
       "      <td>https://books.toscrape.com/catalogue...</td>\n",
       "    </tr>\n",
       "    <tr>\n",
       "      <th>1</th>\n",
       "      <td>Full Moon over Noah’s Ark: An Odysse...</td>\n",
       "      <td>£49.43</td>\n",
       "      <td>Four</td>\n",
       "      <td>Acclaimed travel writer Rick Antonso...</td>\n",
       "      <td>ce60436f52c5ee68</td>\n",
       "      <td>Books</td>\n",
       "      <td>£49.43</td>\n",
       "      <td>£49.43</td>\n",
       "      <td>£0.00</td>\n",
       "      <td>In stock (15 available)</td>\n",
       "      <td>0</td>\n",
       "      <td>https://books.toscrape.com/catalogue...</td>\n",
       "    </tr>\n",
       "    <tr>\n",
       "      <th>2</th>\n",
       "      <td>See America: A Celebration of Our Na...</td>\n",
       "      <td>£48.87</td>\n",
       "      <td>Three</td>\n",
       "      <td>To coincide with the 2016 centennial...</td>\n",
       "      <td>f9705c362f070608</td>\n",
       "      <td>Books</td>\n",
       "      <td>£48.87</td>\n",
       "      <td>£48.87</td>\n",
       "      <td>£0.00</td>\n",
       "      <td>In stock (14 available)</td>\n",
       "      <td>0</td>\n",
       "      <td>https://books.toscrape.com/catalogue...</td>\n",
       "    </tr>\n",
       "    <tr>\n",
       "      <th>3</th>\n",
       "      <td>Vagabonding: An Uncommon Guide to th...</td>\n",
       "      <td>£36.94</td>\n",
       "      <td>Two</td>\n",
       "      <td>With a new foreword by Tim Ferriss •...</td>\n",
       "      <td>1809259a5a5f1d8d</td>\n",
       "      <td>Books</td>\n",
       "      <td>£36.94</td>\n",
       "      <td>£36.94</td>\n",
       "      <td>£0.00</td>\n",
       "      <td>In stock (8 available)</td>\n",
       "      <td>0</td>\n",
       "      <td>https://books.toscrape.com/catalogue...</td>\n",
       "    </tr>\n",
       "    <tr>\n",
       "      <th>4</th>\n",
       "      <td>Under the Tuscan Sun</td>\n",
       "      <td>£37.33</td>\n",
       "      <td>Three</td>\n",
       "      <td>A CLASSIC FROM THE BESTSELLING AUTHO...</td>\n",
       "      <td>a94350ee74deaa07</td>\n",
       "      <td>Books</td>\n",
       "      <td>£37.33</td>\n",
       "      <td>£37.33</td>\n",
       "      <td>£0.00</td>\n",
       "      <td>In stock (7 available)</td>\n",
       "      <td>0</td>\n",
       "      <td>https://books.toscrape.com/catalogue...</td>\n",
       "    </tr>\n",
       "  </tbody>\n",
       "</table>\n",
       "</div>"
      ],
      "text/plain": [
       "                                 book_name book_price book_star_count                                book_desc               UPC Product Type Price (excl. tax) Price (incl. tax)    Tax             Availability Number of reviews                                  cat_url\n",
       "0                  It's Only the Himalayas     £45.17             Two  “Wherever you go, whatever you do, j...  a22124811bfa8350        Books            £45.17            £45.17  £0.00  In stock (19 available)                 0  https://books.toscrape.com/catalogue...\n",
       "1  Full Moon over Noah’s Ark: An Odysse...     £49.43            Four  Acclaimed travel writer Rick Antonso...  ce60436f52c5ee68        Books            £49.43            £49.43  £0.00  In stock (15 available)                 0  https://books.toscrape.com/catalogue...\n",
       "2  See America: A Celebration of Our Na...     £48.87           Three  To coincide with the 2016 centennial...  f9705c362f070608        Books            £48.87            £48.87  £0.00  In stock (14 available)                 0  https://books.toscrape.com/catalogue...\n",
       "3  Vagabonding: An Uncommon Guide to th...     £36.94             Two  With a new foreword by Tim Ferriss •...  1809259a5a5f1d8d        Books            £36.94            £36.94  £0.00   In stock (8 available)                 0  https://books.toscrape.com/catalogue...\n",
       "4                     Under the Tuscan Sun     £37.33           Three  A CLASSIC FROM THE BESTSELLING AUTHO...  a94350ee74deaa07        Books            £37.33            £37.33  £0.00   In stock (7 available)                 0  https://books.toscrape.com/catalogue..."
      ]
     },
     "execution_count": 36,
     "metadata": {},
     "output_type": "execute_result"
    }
   ],
   "source": [
    "df.head()"
   ]
  },
  {
   "cell_type": "code",
   "execution_count": 37,
   "id": "63451c22-f6da-4448-8bb0-5653fc92fa43",
   "metadata": {},
   "outputs": [
    {
     "data": {
      "text/plain": [
       "(51, 12)"
      ]
     },
     "execution_count": 37,
     "metadata": {},
     "output_type": "execute_result"
    }
   ],
   "source": [
    "df.shape"
   ]
  },
  {
   "cell_type": "code",
   "execution_count": 39,
   "id": "7d769d1a-86c8-4e2e-b01b-527dcd118c0d",
   "metadata": {},
   "outputs": [],
   "source": [
    "df.to_excel(\"scraping_books.xlsx\")"
   ]
  },
  {
   "cell_type": "code",
   "execution_count": 40,
   "id": "cb8597c6-f648-443a-a5ff-68853eb84070",
   "metadata": {},
   "outputs": [],
   "source": [
    "driver.quit()"
   ]
  },
  {
   "cell_type": "code",
   "execution_count": null,
   "id": "6505fb16-8e8f-48ff-8034-dc05178e6a48",
   "metadata": {},
   "outputs": [],
   "source": []
  }
 ],
 "metadata": {
  "kernelspec": {
   "display_name": "Python 3 (ipykernel)",
   "language": "python",
   "name": "python3"
  },
  "language_info": {
   "codemirror_mode": {
    "name": "ipython",
    "version": 3
   },
   "file_extension": ".py",
   "mimetype": "text/x-python",
   "name": "python",
   "nbconvert_exporter": "python",
   "pygments_lexer": "ipython3",
   "version": "3.11.8"
  }
 },
 "nbformat": 4,
 "nbformat_minor": 5
}
